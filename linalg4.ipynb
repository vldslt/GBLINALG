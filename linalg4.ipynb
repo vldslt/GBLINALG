{
  "nbformat": 4,
  "nbformat_minor": 0,
  "metadata": {
    "colab": {
      "name": "linalg4.ipynb",
      "provenance": [],
      "authorship_tag": "ABX9TyNDW6kHMwPUDWJuXwZOfrgw",
      "include_colab_link": true
    },
    "kernelspec": {
      "display_name": "Python 3",
      "name": "python3"
    },
    "language_info": {
      "name": "python"
    }
  },
  "cells": [
    {
      "cell_type": "markdown",
      "metadata": {
        "id": "view-in-github",
        "colab_type": "text"
      },
      "source": [
        "<a href=\"https://colab.research.google.com/github/vldslt/GBLINALG/blob/main/linalg4.ipynb\" target=\"_parent\"><img src=\"https://colab.research.google.com/assets/colab-badge.svg\" alt=\"Open In Colab\"/></a>"
      ]
    },
    {
      "cell_type": "markdown",
      "metadata": {
        "id": "tqHz1g9gGyGZ"
      },
      "source": [
        "__1.__ Решить систему уравнений методом Гаусса:\n",
        "\n",
        "$$\\begin{cases}\n",
        "x_{1}+x_{2}-x_{3}-2x_{4}=0, \\\\\n",
        "2x_{1}+x_{2}-x_{3}+x_{4}=-2, \\\\\n",
        "x_{1}+x_{2}-3x_{3}+x_{4}=4.\n",
        "\\end{cases}$$\n"
      ]
    },
    {
      "cell_type": "markdown",
      "metadata": {
        "id": "5MgjznXEN9lZ"
      },
      "source": [
        "$$\\begin{pmatrix}\n",
        "\\left.\\begin{matrix}\n",
        "1 & 1 & -1 & -2\\\\ \n",
        "2 & 1 & -1 & 1\\\\ \n",
        "1 & 1 & -3 & 1\n",
        "\\end{matrix}\\right|\n",
        "\\begin{matrix}\n",
        "0\\\\ \n",
        "-2\\\\\n",
        "4\n",
        "\\end{matrix}\n",
        "\\end{pmatrix}$$\n",
        "\n",
        "вычитаем из 3 строки 1"
      ]
    },
    {
      "cell_type": "markdown",
      "metadata": {
        "id": "rf_ArdtiO8tG"
      },
      "source": [
        "$$\\begin{pmatrix}\n",
        "\\left.\\begin{matrix}\n",
        "1 & 1 & -1 & -2\\\\ \n",
        "2 & 1 & -1 & 1\\\\ \n",
        "0 & 0 & -4 & 1\n",
        "\\end{matrix}\\right|\n",
        "\\begin{matrix}\n",
        "0\\\\ \n",
        "-2\\\\\n",
        "4\n",
        "\\end{matrix}\n",
        "\\end{pmatrix}$$\n",
        "умножаем 1 строку на 2 и вычитаем её из 2 сторки"
      ]
    },
    {
      "cell_type": "markdown",
      "metadata": {
        "id": "Q55zOIJQPfHn"
      },
      "source": [
        "$$\\begin{pmatrix}\n",
        "\\left.\\begin{matrix}\n",
        "2 & 2 & -2 & -2\\\\ \n",
        "0 & -1 & 3 & 3\\\\ \n",
        "0 & 0 & -4 & 1\n",
        "\\end{matrix}\\right|\n",
        "\\begin{matrix}\n",
        "0\\\\ \n",
        "-2\\\\\n",
        "4\n",
        "\\end{matrix}\n",
        "\\end{pmatrix}$$\n",
        "делим 1 строку на 2"
      ]
    },
    {
      "cell_type": "markdown",
      "metadata": {
        "id": "Ss2aS3tEReGb"
      },
      "source": [
        "$$\\begin{pmatrix}\n",
        "\\left.\\begin{matrix}\n",
        "1 & 1 & -1 & -1\\\\ \n",
        "0 & -1 & 3 & 3\\\\ \n",
        "0 & 0 & -4 & 1\n",
        "\\end{matrix}\\right|\n",
        "\\begin{matrix}\n",
        "0\\\\ \n",
        "-2\\\\\n",
        "4\n",
        "\\end{matrix}\n",
        "\\end{pmatrix}$$\n",
        "делим 3 строку на 4"
      ]
    },
    {
      "cell_type": "markdown",
      "metadata": {
        "id": "BFAgVY5PQdw4"
      },
      "source": [
        "$$\\begin{cases}\n",
        "x_{1}+x_{2}-x_{3}-x_{4}=0, \\\\\n",
        "-x_{2}+3x_{3}+3x_{4}=-2, \\\\\n",
        "-x_{3}+0,25x_{4}=1.\n",
        "\\end{cases} => $$\n",
        "$$\\begin{cases}\n",
        "x_{1}+x_{2}-x_{3}-x_{4}=0, \\\\\n",
        "-x_{2}+3x_{3}+3x_{4}=-2, \\\\\n",
        "x_{3}=0,25x_{4}-1.\n",
        "\\end{cases} =>$$ \n",
        "$$\\begin{cases}\n",
        "x_{1}+x_{2}-x_{3}-x_{4}=0, \\\\\n",
        "-x_{2}+0.75x_{4}-3+3x_{4}=-2, \\\\\n",
        "x_{3}=0,25x_{4}-1.\n",
        "\\end{cases}=>$$\n",
        "$$\\begin{cases}\n",
        "x_{1}+x_{2} =x_{3}+x_{4}, \\\\\n",
        "x_{2}=3.75x_{4}-1, \\\\\n",
        "x_{3}=0,25x_{4}-1.\n",
        "\\end{cases}\n",
        "$$\n",
        "$$\\begin{cases}\n",
        "x_{1}+2.5x_{4}=0, \\\\\n",
        "x_{2}=3.75x_{4}-1, \\\\\n",
        "x_{3}=0,25x_{4}-1.\n",
        "\\end{cases}\n",
        "$$\n",
        "$$\\begin{cases}\n",
        "x_{1}=-2.5x_{4}, \\\\\n",
        "x_{2}=3.75x_{4}-1, \\\\\n",
        "x_{3}=0,25x_{4}-1.\n",
        "\\end{cases}\n",
        "$$\n",
        "$$\\begin{cases}\n",
        "-2.5x_{4}+3.75x_{4}-0.25x_{4}+1-x_{4}=0 => x_{4}=x_{4}+1  !!! \\\\\n",
        "x_{1}=-2.5x_{4}, \\\\\n",
        "x_{2}=3.75x_{4}-1, \\\\\n",
        "x_{3}=0,25x_{4}-1.\n",
        "\\end{cases}\n",
        "$$"
      ]
    },
    {
      "cell_type": "markdown",
      "metadata": {
        "id": "hhuk558yYWw0"
      },
      "source": [
        "Полученное равенство не имеет смысла, а значит, система решений не имеет."
      ]
    },
    {
      "cell_type": "markdown",
      "metadata": {
        "id": "8aZg3u8mG4px"
      },
      "source": [
        "__2.__ Проверить на совместность и выяснить, сколько решений будет иметь система линейных уравнений:\n",
        "\n",
        "   а) $\\begin{cases}\n",
        "3x_{1}-x_{2}+x_{3}=4, \\\\\n",
        "2x_{1}-5x_{2}-3x_{3}=-17, \\\\\n",
        "x_{1}+x_{2}-x_{3}=0;\n",
        "\\end{cases}$"
      ]
    },
    {
      "cell_type": "markdown",
      "metadata": {
        "id": "BiC736zBZmQn"
      },
      "source": [
        "$$\\tilde{A}=\\begin{pmatrix}\n",
        "\\left.\\begin{matrix}\n",
        "3 & -1 & 1\\\\ \n",
        "2 & -5 & -3\\\\ \n",
        "1 & 1 & -1\n",
        "\\end{matrix}\\right|\n",
        "\\begin{matrix}\n",
        "4\\\\ \n",
        "-17\\\\\n",
        "0\n",
        "\\end{matrix}\n",
        "\\end{pmatrix}$$\n",
        "вычитаем 3 строку из первой, после вычитаем получившуюся первую строку из 2 строки"
      ]
    },
    {
      "cell_type": "markdown",
      "metadata": {
        "id": "2tKgnJlqai8Y"
      },
      "source": [
        "$$\\tilde{A}=\\begin{pmatrix}\n",
        "\\left.\\begin{matrix}\n",
        "2 & -2 & 2\\\\ \n",
        "0 & -3 & -5\\\\ \n",
        "1 & 1 & -1\n",
        "\\end{matrix}\\right|\n",
        "\\begin{matrix}\n",
        "4\\\\ \n",
        "-21\\\\\n",
        "0\n",
        "\\end{matrix}\n",
        "\\end{pmatrix}$$\n",
        "умножаем 3 строку на 2 и прибавляем получившееся к 1 строке"
      ]
    },
    {
      "cell_type": "markdown",
      "metadata": {
        "id": "1vnIgy81bu34"
      },
      "source": [
        "$$\\tilde{A}=\\begin{pmatrix}\n",
        "\\left.\\begin{matrix}\n",
        "4 & 0 & 0\\\\ \n",
        "0 & -3 & -5\\\\ \n",
        "2 & 2 & -2\n",
        "\\end{matrix}\\right|\n",
        "\\begin{matrix}\n",
        "4\\\\ \n",
        "-21\\\\\n",
        "0\n",
        "\\end{matrix}\n",
        "\\end{pmatrix}$$"
      ]
    },
    {
      "cell_type": "markdown",
      "metadata": {
        "id": "unXHzkFdbLu2"
      },
      "source": [
        "$\\begin{cases}\n",
        "4x_{1}=4, \\\\\n",
        "-3x_{2}-5x_{3}=-21, \\\\\n",
        "2x_{1}+2x_{2}-2x_{3}=0;\\end{cases} = > $\\begin{cases}\n",
        "x_{1}=1, \\\\\n",
        "x_{3}=4, \\\\\n",
        "x_{2}=x_{3}-1 = 3;\n",
        "\\end{cases}\n",
        "\n",
        "система совместна"
      ]
    },
    {
      "cell_type": "markdown",
      "metadata": {
        "id": "6obseCkbZZdk"
      },
      "source": [
        "б) $\\begin{cases}\n",
        "2x_{1}-4x_{2}+6x_{3}=1, \\\\\n",
        "x_{1}-2x_{2}+3x_{3}=-2, \\\\\n",
        "3x_{1}-6x_{2}+9x_{3}=5;\n",
        "\\end{cases}$"
      ]
    },
    {
      "cell_type": "markdown",
      "metadata": {
        "id": "x9-8NgFBdLNP"
      },
      "source": [
        "$$\\tilde{A}=\\begin{pmatrix}\n",
        "\\left.\\begin{matrix}\n",
        "2 & -4 & 6\\\\ \n",
        "1 & -2 & 3\\\\ \n",
        "3 & -6 & 9\n",
        "\\end{matrix}\\right|\n",
        "\\begin{matrix}\n",
        "1\\\\ \n",
        "-2\\\\\n",
        "5\n",
        "\\end{matrix}\n",
        "\\end{pmatrix}$$\n",
        "складываем 2 и 1 строки, вычитаем получившуюся 2 строку из 3, делим получившуюся 3 строку на 6, ко 2 строке прибавляем 1 строку, делим вторую строку на 5"
      ]
    },
    {
      "cell_type": "markdown",
      "metadata": {
        "id": "SNq8ojUWdxRa"
      },
      "source": [
        "$$\\tilde{A}=\\begin{pmatrix}\n",
        "\\left.\\begin{matrix}\n",
        "2 & -4 & 6\\\\ \n",
        "1 & -2 & 3\\\\ \n",
        "0 & -2 & 0\n",
        "\\end{matrix}\\right|\n",
        "\\begin{matrix}\n",
        "1\\\\ \n",
        "0\\\\\n",
        "1\n",
        "\\end{matrix}\n",
        "\\end{pmatrix}$$"
      ]
    },
    {
      "cell_type": "markdown",
      "metadata": {
        "id": "kvvXRNnke2k5"
      },
      "source": [
        "$\\begin{cases}\n",
        "2x_{1}-4x_{2}+6x_{3}=1, \\\\\n",
        "x_{1}-2x_{2}+3x_{3}=0, \\\\\n",
        "-2x_{2}=1;\n",
        "\\end{cases} =>$\\begin{cases}\n",
        "6x_{3}=1+2-2+6x_{3}=>6x_{3} = 6x_{3}+1, \\\\\n",
        "x_{1}=-1-3x_{3}=0, \\\\\n",
        "x_{2}=0,5;\n",
        "\\end{cases}\n",
        "\n",
        "Полученное равенство не имеет смысла, а значит, система решений не имеет, система не совместна"
      ]
    },
    {
      "cell_type": "markdown",
      "metadata": {
        "id": "H021xVJXZgeK"
      },
      "source": [
        "в) $\\begin{cases}\n",
        "x_{1}+2x_{2}+5x_{3}=4, \\\\\n",
        "3x_{1}+x_{2}-8x_{3}=-2. \n",
        "\\end{cases}$"
      ]
    },
    {
      "cell_type": "markdown",
      "metadata": {
        "id": "DdZ3HvMrgJdd"
      },
      "source": [
        "$$\\tilde{A}=\\begin{pmatrix}\n",
        "\\left.\\begin{matrix}\n",
        "1 & 2 & 5\\\\ \n",
        "3 & 1 & -8\\\\\n",
        "\\end{matrix}\\right|\n",
        "\\begin{matrix}\n",
        "4\\\\ \n",
        "-2\\\\\n",
        "\\end{matrix}\n",
        "\\end{pmatrix}$$\n",
        "умножаем 2 строку на 2, прибавляем к 2 строке 1 строку"
      ]
    },
    {
      "cell_type": "markdown",
      "metadata": {
        "id": "RZVMgc1vgh6P"
      },
      "source": [
        "$$\\tilde{A}=\\begin{pmatrix}\n",
        "\\left.\\begin{matrix}\n",
        "1 & 2 & 5\\\\ \n",
        "7 & 4 & -11\\\\\n",
        "\\end{matrix}\\right|\n",
        "\\begin{matrix}\n",
        "4\\\\ \n",
        "0\\\\\n",
        "\\end{matrix}\n",
        "\\end{pmatrix}$$"
      ]
    },
    {
      "cell_type": "markdown",
      "metadata": {
        "id": "MLVT1JgvgwEG"
      },
      "source": [
        "в) $\\begin{cases}\n",
        "x_{1}+2x_{2}+5x_{3}=4, \\\\\n",
        "7x_{1}+4x_{2}-11x_{3}=0. \n",
        "\\end{cases}$\n",
        "в) $\\begin{cases}\n",
        "x_{2} = 2-0.5x_{1}-2.5x_{3}, \\\\\n",
        "x_{1} = 11x_{3}-4x_{2} \n",
        "\\end{cases}$\n",
        "$\\begin{cases}\n",
        "x_{2} = 2-0.5x_{1}-2.5x_{3}, \\\\\n",
        "x_{1} = 11x_{3}-2x_{1}-10x_{3} \n",
        "\\end{cases}$\n",
        "$\\begin{cases}\n",
        "x_{2} = 2-8x_{1}\\\\\n",
        "x_{3} = 3x_{1} \n",
        "\\end{cases}$\n",
        "$\\begin{cases}\n",
        "x_{1}+4-16x_{1}+15x_{1}=4 =>4=4, \\\\\n",
        "-42x_{1}=-8 => x_{1} = 5.25\n",
        "\\end{cases}$\n",
        "$\\begin{cases}\n",
        "x_{2} = 2-8x_{1} = -40\\\\\n",
        "x_{3} = 3x_{1} = 15.75\\end{cases}$\n",
        "\n",
        "система совместна"
      ]
    },
    {
      "cell_type": "markdown",
      "metadata": {
        "id": "HYGxZ6LMG9Pc"
      },
      "source": [
        "__3.__ Проверить на совместность и выяснить, сколько решений будет иметь система линейных уравнений, заданная расширенной матрицей\n",
        "\n",
        "$$\\tilde{A}=\\begin{pmatrix}\n",
        "\\left.\\begin{matrix}\n",
        "1 & 3 & -2 & 4\\\\ \n",
        "0 & 5 & 0 & 1\\\\ \n",
        "0 & 0 & 3 & 0\\\\ \n",
        "0 & 0 & 0 & 2\n",
        "\\end{matrix}\\right|\n",
        "\\begin{matrix}\n",
        "3\\\\ \n",
        "2\\\\\n",
        "4\\\\\n",
        "1\n",
        "\\end{matrix}\n",
        "\\end{pmatrix}.$$"
      ]
    },
    {
      "cell_type": "code",
      "metadata": {
        "colab": {
          "background_save": true
        },
        "id": "ZkiHRRaspKJt"
      },
      "source": [
        "import numpy as np\n",
        "matA = np.array([[1, 3, -2, 4], \n",
        "                   [0, 5, 0, 1], \n",
        "                   [0, 0, 3, 0],\n",
        "                   [0, 0, 0, 2]])\n",
        "matB = np.array([\n",
        "                 3,\n",
        "                 2,\n",
        "                 4,\n",
        "                 1])"
      ],
      "execution_count": null,
      "outputs": []
    },
    {
      "cell_type": "code",
      "metadata": {
        "colab": {
          "base_uri": "https://localhost:8080/"
        },
        "id": "6G9dngkZHBpi",
        "outputId": "1be800c4-2078-49d8-ec71-8e0814fa262a"
      },
      "source": [
        "def SwapRows(A, B, row1, row2):\n",
        "    A[row1], A[row2] = A[row2], A[row1]\n",
        "    B[row1], B[row2] = B[row2], B[row1]\n",
        "def DivideRow(A, B, row, divider):\n",
        "    A[row] = [a / divider for a in A[row]]\n",
        "    B[row] /= divider\n",
        "def CombineRows(A, B, row, source_row, weight):\n",
        "    A[row] = [(a + k * weight) for a, k in zip(A[row], A[source_row])]\n",
        "    B[row] += B[source_row] * weight\n",
        "def Gauss(A, B):\n",
        "    column = 0\n",
        "    while (column < len(B)):\n",
        "        current_row = None\n",
        "        for r in range(column, len(A)):\n",
        "            if current_row is None or abs(A[r][column]) > abs(A[current_row][column]):\n",
        "                 current_row = r\n",
        "        if current_row is None:\n",
        "            return None\n",
        "        if current_row != column:\n",
        "            SwapRows(A, B, current_row, column)\n",
        "        DivideRow(A, B, column, A[column][column])\n",
        "        for r in range(column + 1, len(A)):\n",
        "            CombineRows(A, B, r, column, -A[r][column])\n",
        "        column += 1\n",
        "    X = [0 for b in B]\n",
        "    for i in range(len(B) - 1, -1, -1):\n",
        "        X[i] = B[i] - sum(x * a for x, a in zip(X[(i + 1):], A[i][(i + 1):]))\n",
        "    return X\n",
        "\n",
        "Gauss(matA, matB)"
      ],
      "execution_count": 96,
      "outputs": [
        {
          "output_type": "execute_result",
          "data": {
            "text/plain": [
              "[5, 0, 1, 0]"
            ]
          },
          "metadata": {},
          "execution_count": 96
        }
      ]
    },
    {
      "cell_type": "markdown",
      "metadata": {
        "id": "3FVvuVrKHA94"
      },
      "source": [
        "__4.__ Дана система линейных уравнений, заданная расширенной матрицей\n",
        "\n",
        "$$\\tilde{A}=\\begin{pmatrix}\n",
        "\\left.\\begin{matrix}\n",
        "1 & 2 & 3\\\\ \n",
        "4 & 5 & 6\\\\ \n",
        "7 & 8 & 9\n",
        "\\end{matrix}\\right|\n",
        "\\begin{matrix}\n",
        "a\\\\ \n",
        "b\\\\\n",
        "c\n",
        "\\end{matrix}\n",
        "\\end{pmatrix}.$$\n",
        "\n",
        "Найти соотношение между параметрами $a$, $b$ и $c$, при которых система является несовместной."
      ]
    },
    {
      "cell_type": "code",
      "metadata": {
        "colab": {
          "background_save": true
        },
        "id": "AVNukhagqbCu"
      },
      "source": [
        ""
      ],
      "execution_count": null,
      "outputs": []
    },
    {
      "cell_type": "markdown",
      "metadata": {
        "id": "8D434SPkHLDN"
      },
      "source": [
        "__1.__ Решить систему уравнений методом Крамера:\n",
        "\n",
        "   а) $\\begin{cases}\n",
        "x_{1}-2x_{2}=1 \\\\\n",
        "3x_{1}-4x_{2}=7\n",
        "\\end{cases}$"
      ]
    },
    {
      "cell_type": "markdown",
      "metadata": {
        "id": "_5WvmPyRLV0J"
      },
      "source": [
        "$$detA=\\begin{vmatrix}\n",
        "1 & -2\\\\ \n",
        "3 & 4\n",
        "\\end{vmatrix}=2$$\n",
        "$$detA_{1}=\\begin{vmatrix}\n",
        "1 & -2\\\\ \n",
        "7 & -4 \n",
        "\\end{vmatrix}=10$$\n",
        "\n",
        "$$detA_{2}=\\begin{vmatrix}\n",
        "1 & 1\\\\ \n",
        "3 & 7 \n",
        "\\end{vmatrix}=4$$"
      ]
    },
    {
      "cell_type": "markdown",
      "metadata": {
        "id": "JJKcO_XCLyOT"
      },
      "source": [
        "$$x_{1} = \\frac{detA_{1}}{detA} = \\frac{10}{2}=5,$$\n",
        "\n",
        "$$x_{2} = \\frac{detA_{2}}{detA} = \\frac{4}{2}=2,$$"
      ]
    },
    {
      "cell_type": "markdown",
      "metadata": {
        "id": "Yawcvt6OKIcj"
      },
      "source": [
        "   б) $\\begin{cases}\n",
        "2x_{1}-x_{2}+5x_{3}=10 \\\\\n",
        "x_{1}+x_{2}-3x_{3}=-2 \\\\\n",
        "2x_{1}+4x_{2}+x_{3}=1\n",
        "\\end{cases}$"
      ]
    },
    {
      "cell_type": "markdown",
      "metadata": {
        "id": "bRe_vuFaKOb9"
      },
      "source": [
        "$$detA=\\begin{vmatrix}\n",
        "2 & -1 & 5\\\\ \n",
        "1 & 1 & -3\\\\ \n",
        "2 & 4 & 1\n",
        "\\end{vmatrix}=43$$\n",
        "$$detA_{1}=\\begin{vmatrix}\n",
        "10 & -1 & 5\\\\ \n",
        "-2 & 1 & -3\\\\ \n",
        "1 & 4 & 1\n",
        "\\end{vmatrix}=86$$\n",
        "\n",
        "$$detA_{2}=\\begin{vmatrix}\n",
        "2 & 10 & 5\\\\ \n",
        "1 & -2 & -3\\\\ \n",
        "2 & 1 & 1\n",
        "\\end{vmatrix}=-43$$\n",
        "$$detA_{3}=\\begin{vmatrix}\n",
        "2 & -1 & 10\\\\ \n",
        "1 & 1 & -2\\\\ \n",
        "2 & 4 & 1\n",
        "\\end{vmatrix}=43$$"
      ]
    },
    {
      "cell_type": "markdown",
      "metadata": {
        "id": "KrugPQGBLB4Z"
      },
      "source": [
        "$$x_{1} = \\frac{detA_{1}}{detA} = \\frac{86}{43}=2,$$\n",
        "\n",
        "$$x_{2} = \\frac{detA_{2}}{detA} = \\frac{-43}{43}=-1,$$\n",
        "\n",
        "$$x_{3} = \\frac{detA_{3}}{detA} = \\frac{43}{43}=1.$$\n"
      ]
    },
    {
      "cell_type": "markdown",
      "metadata": {
        "id": "ES87yq8MHNjj"
      },
      "source": [
        "__2*.__ Найти $L$-матрицу $LU$-разложения для матрицы коэффициентов:\n",
        "\n",
        "   а)$$\\begin{pmatrix}\n",
        "1 & 2 & 4 \\\\ \n",
        "2 & 9 & 12 \\\\ \n",
        "3 & 26 & 30\n",
        "\\end{pmatrix}$$\n",
        "    \n",
        "   б)$$\\begin{pmatrix}\n",
        "1 & 1 & 2 & 4\\\\ \n",
        "2 & 5 & 8 & 9\\\\ \n",
        "3 & 18 & 29 & 18\\\\\n",
        "4 & 22 & 53 & 33\n",
        "\\end{pmatrix}$$"
      ]
    },
    {
      "cell_type": "markdown",
      "metadata": {
        "id": "zhn8cAO2HP3_"
      },
      "source": [
        "__3*.__ Решить систему линейных уравнений методом $LU$-разложения\n",
        "\n",
        "$$\\begin{cases}\n",
        "2x_{1}+x_{2}+3x_{3}=1 \\\\\n",
        "11x_{1}+7x_{2}+5x_{3}=-6 \\\\\n",
        "9x_{1}+8x_{2}+4x_{3}=-5\n",
        "\\end{cases}$$"
      ]
    },
    {
      "cell_type": "markdown",
      "metadata": {
        "id": "mna9mbfqHSrm"
      },
      "source": [
        "__4*.__ Решить систему линейных уравнений методом Холецкого\n",
        "\n",
        "$$\\begin{cases}\n",
        "81x_{1}-45x_{2}+45x_{3}=531 \\\\\n",
        "-45x_{1}+50x_{2}-15x_{3}=-460 \\\\\n",
        "45x_{1}-15x_{2}+38x_{3}=193\n",
        "\\end{cases}$$"
      ]
    },
    {
      "cell_type": "code",
      "metadata": {
        "colab": {
          "base_uri": "https://localhost:8080/"
        },
        "id": "9jnxhZ-wM_3g",
        "outputId": "8b2fc17f-5252-42ca-e106-8f8c50b41706"
      },
      "source": [
        "def cholesky_reduce(A):\n",
        "    pivot = A[0, 0]\n",
        "    b = np.mat(A[1:, 0])\n",
        "    B = A[1:, 1:]\n",
        "    return B - (b.T * b) / pivot\n",
        "\n",
        "\n",
        "def L(A):\n",
        "    n = A.shape[0]\n",
        "    if n == 1:\n",
        "        return np.sqrt(A)\n",
        "    b = np.mat(A[1:, 0])\n",
        "    pivot = np.sqrt(A[0, 0])\n",
        "    return np.bmat([\n",
        "        [np.mat(pivot), np.zeros((1, n - 1))],\n",
        "        [b.T / pivot, L(cholesky_reduce(A))]\n",
        "    ])\n",
        "\n",
        "\n",
        "def __main():\n",
        "    A = np.array([[81, -45, 45], [-45, 50, -15], [45, -15, 38]])\n",
        "    print(L(A))\n",
        "\n",
        "if __name__ == '__main__':\n",
        "    __main()"
      ],
      "execution_count": null,
      "outputs": [
        {
          "name": "stdout",
          "output_type": "stream",
          "text": [
            "[[ 9.  0.  0.]\n",
            " [-5.  5.  0.]\n",
            " [ 5.  2.  3.]]\n"
          ]
        }
      ]
    },
    {
      "cell_type": "markdown",
      "metadata": {
        "id": "LOvEN41QHUfe"
      },
      "source": [
        "__5*.__ Написать на Python программу с реализацией одного из изученных алгоритмов решения СЛАУ."
      ]
    }
  ]
}
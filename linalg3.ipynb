{
  "nbformat": 4,
  "nbformat_minor": 0,
  "metadata": {
    "colab": {
      "name": "linalg3.ipynb",
      "provenance": [],
      "authorship_tag": "ABX9TyNVvFsLJvKlEnQzKci0pXYl",
      "include_colab_link": true
    },
    "kernelspec": {
      "name": "python3",
      "display_name": "Python 3"
    },
    "language_info": {
      "name": "python"
    }
  },
  "cells": [
    {
      "cell_type": "markdown",
      "metadata": {
        "id": "view-in-github",
        "colab_type": "text"
      },
      "source": [
        "<a href=\"https://colab.research.google.com/github/vldslt/GBLINALG/blob/main/linalg3.ipynb\" target=\"_parent\"><img src=\"https://colab.research.google.com/assets/colab-badge.svg\" alt=\"Open In Colab\"/></a>"
      ]
    },
    {
      "cell_type": "code",
      "metadata": {
        "id": "6OOpOwe7f0g1"
      },
      "source": [
        "import numpy as np"
      ],
      "execution_count": 1,
      "outputs": []
    },
    {
      "cell_type": "markdown",
      "metadata": {
        "id": "xs2UEuXjgApk"
      },
      "source": [
        "__1.__ Найти собственные векторы и собственные значения для линейного оператора, заданного матрицей\n",
        "\n",
        "$$A=\\begin{pmatrix}\n",
        "-1 & -6\\\\ \n",
        "2 & 6\n",
        "\\end{pmatrix}.$$"
      ]
    },
    {
      "cell_type": "markdown",
      "metadata": {
        "id": "qejJtuP-gU3M"
      },
      "source": [
        "$$A - \\lambda E=\\begin{pmatrix}\n",
        "-1 - λ & -6\\\\ \n",
        "2 & 6 - \\lambda\n",
        "\\end{pmatrix}.$$"
      ]
    },
    {
      "cell_type": "markdown",
      "metadata": {
        "id": "L7FT2jjIg3HG"
      },
      "source": [
        "$$det (A - \\lambda E)= (-1-\\lambda)*(6-λ) - (2*-6) = (-6 -6\\lambda +λ +λ^2) - (-12) => \\lambda^2 - 5\\lambda +6  = 0$$\n",
        "$$\\lambda_1 =  3, \\lambda_2 = 2$$\n"
      ]
    },
    {
      "cell_type": "markdown",
      "metadata": {
        "id": "sGz8dbz4qg0X"
      },
      "source": [
        "$$\\begin{pmatrix}\n",
        "-1 & -6\\\\ \n",
        "2 & 6\n",
        "\\end{pmatrix}\n",
        "\\begin{pmatrix}\n",
        "x_{1}\\\\ \n",
        "x_{2}\n",
        "\\end{pmatrix}=\n",
        "\\begin{pmatrix}\n",
        "\\lambda_1\\\\\n",
        "\\lambda_2\n",
        "\\end{pmatrix}\n",
        "\\begin{pmatrix}\n",
        "x_{1}\\\\ \n",
        "x_{2}\n",
        "\\end{pmatrix}\n",
        "$$"
      ]
    },
    {
      "cell_type": "markdown",
      "metadata": {
        "id": "f2N22XCnr_KH"
      },
      "source": [
        "$$\\begin{cases}\n",
        "-x_{1}-6x_{2}= 3x_{1}, \\\\\n",
        "2x_{1}+6x_{2}= 2x_{2}.\n",
        "\\end{cases}$$ \n",
        "$$\\begin{cases}\n",
        "-6x_{2}= 2x_{1}, \\\\\n",
        "2x_{1}= -4x_{2}.\n",
        "\\end{cases}$$\n",
        "$$ ??? $$ "
      ]
    },
    {
      "cell_type": "markdown",
      "metadata": {
        "id": "WdcEa9v_gHAo"
      },
      "source": [
        "__2.__ Дан оператор поворота на 180 градусов, задаваемый матрицей \n",
        "\n",
        "$$A=\\begin{pmatrix}\n",
        "-1 & 0\\\\ \n",
        "0 & -1\n",
        "\\end{pmatrix}.$$\n",
        "\n",
        "Показать, что __любой__ вектор является для него собственным."
      ]
    },
    {
      "cell_type": "markdown",
      "metadata": {
        "id": "PyBTy36ggKFz"
      },
      "source": [
        "__3.__ Пусть линейный оператор задан матрицей\n",
        "\n",
        "$$A=\\begin{pmatrix}\n",
        "1 & 1\\\\ \n",
        "-1 & 3\n",
        "\\end{pmatrix}.$$\n",
        "\n",
        "Установить, является ли вектор $x=(1,1)$ собственным вектором этого линейного оператора."
      ]
    },
    {
      "cell_type": "markdown",
      "metadata": {
        "id": "8se4pYRRt3oQ"
      },
      "source": [
        "$$\\begin{pmatrix}\n",
        "1 & 1\\\\ \n",
        "-1 & 3\n",
        "\\end{pmatrix}\n",
        "\\begin{pmatrix}\n",
        "1\\\\ \n",
        "1\n",
        "\\end{pmatrix}=\n",
        "\\lambda\n",
        "\\begin{pmatrix}\n",
        "1\\\\ \n",
        "1\n",
        "\\end{pmatrix}\n",
        "$$"
      ]
    },
    {
      "cell_type": "markdown",
      "metadata": {
        "id": "5SHeFStduh4t"
      },
      "source": [
        "$$\\begin{cases}\n",
        "1+1=\\lambda \\\\ \n",
        "-1+3 =\\lambda\n",
        "\\end{cases}\n",
        "\\Rightarrow\n",
        "\\begin{cases}\n",
        "\\lambda=2\\\\ \n",
        "\\lambda=2\n",
        "\\end{cases}$$"
      ]
    },
    {
      "cell_type": "markdown",
      "metadata": {
        "id": "BT3mxqcggPFy"
      },
      "source": [
        "**4.** Пусть линейный оператор задан матрицей\n",
        "\n",
        "$$A=\\begin{pmatrix} 0 & 3 & 0\\\\ 3 & 0 & 0\\\\ 0 & 0 & 3 \\end{pmatrix}.$$\n",
        "\n",
        "Установить, является ли вектор $x=(3, -3, -4)$ собственным вектором этого линейного оператора."
      ]
    },
    {
      "cell_type": "markdown",
      "metadata": {
        "id": "co3mJNWDvJrh"
      },
      "source": [
        "$$\\begin{pmatrix}\n",
        "0 & 3 & 0\\\\ \n",
        "3 & 0 & 0\\\\\n",
        "0 & 0 & 3\n",
        "\\end{pmatrix}\n",
        "\\begin{pmatrix}\n",
        "3\\\\\n",
        "-3\\\\\n",
        "-4\n",
        "\\end{pmatrix}=\n",
        "\\lambda\n",
        "\\begin{pmatrix}\n",
        "3\\\\\n",
        "-3\\\\\n",
        "-4\n",
        "\\end{pmatrix}\n",
        "$$"
      ]
    },
    {
      "cell_type": "markdown",
      "metadata": {
        "id": "NstPtpP1vZQC"
      },
      "source": [
        "$$\\begin{pmatrix}\n",
        "0 & 9 & 0\\\\\n",
        "-9 & 0 & 0\\\\\n",
        "0 & 0 & -12\n",
        "\\end{pmatrix}=\n",
        "\\lambda\n",
        "\\begin{pmatrix}\n",
        "3\\\\\n",
        "-3\\\\\n",
        "-4\n",
        "\\end{pmatrix}\n",
        "$$\n",
        "\n",
        "\n",
        "$$\\Rightarrow\n",
        "\\begin{cases}\n",
        "3\\lambda=9\\\\ \n",
        "-3\\lambda=-9\\\\\n",
        "-4\\lambda=-12\n",
        "\\end{cases}\n",
        "\\Rightarrow\n",
        "λ = 3$$\n"
      ]
    }
  ]
}
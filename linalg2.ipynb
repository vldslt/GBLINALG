{
  "nbformat": 4,
  "nbformat_minor": 0,
  "metadata": {
    "colab": {
      "name": "linalg2.ipynb",
      "provenance": [],
      "authorship_tag": "ABX9TyOktPKawPokrmEuH/LcTVj2",
      "include_colab_link": true
    },
    "kernelspec": {
      "name": "python3",
      "display_name": "Python 3"
    },
    "language_info": {
      "name": "python"
    }
  },
  "cells": [
    {
      "cell_type": "markdown",
      "metadata": {
        "id": "view-in-github",
        "colab_type": "text"
      },
      "source": [
        "<a href=\"https://colab.research.google.com/github/vldslt/GBLINALG/blob/main/linalg2.ipynb\" target=\"_parent\"><img src=\"https://colab.research.google.com/assets/colab-badge.svg\" alt=\"Open In Colab\"/></a>"
      ]
    },
    {
      "cell_type": "code",
      "metadata": {
        "id": "saeCRWkXtdR2"
      },
      "source": [
        "import numpy as np"
      ],
      "execution_count": 1,
      "outputs": []
    },
    {
      "cell_type": "markdown",
      "metadata": {
        "id": "YCeIrL0Btodl"
      },
      "source": [
        "1. Установить, какие произведения матриц  AB  и  BA  определены, и найти размерности полученных матриц:\n",
        "\n",
        "а)  A  — матрица  4×2 ,  B  — матрица  4×2 ;\n",
        "\n",
        "б)  A  — матрица  2×5 ,  B  — матрица  5×3 ;\n",
        "\n",
        "в)  A  — матрица  8×3 ,  B  — матрица  3×8 ;\n",
        "\n",
        "г)  A  — квадратная матрица  4×4 ,  B  — квадратная матрица  4×4 ."
      ]
    },
    {
      "cell_type": "markdown",
      "metadata": {
        "id": "PYrrEot3xPhk"
      },
      "source": [
        "a) AB - no, BA - no\n",
        "\n",
        "b) AB - 2x3, BA - no\n",
        "\n",
        "c) AB - no , BA -3x3\n",
        "\n",
        "d) AB - 4x4 , BA - 4x4 "
      ]
    },
    {
      "cell_type": "markdown",
      "metadata": {
        "id": "qh1rgerztqYo"
      },
      "source": [
        "2. Найти сумму и произведение матриц $A=\\begin{pmatrix}\n",
        "1 & -2\\\\ \n",
        "3 & 0\n",
        "\\end{pmatrix}$ и $B=\\begin{pmatrix}\n",
        "4 & -1\\\\ \n",
        "0 & 5\n",
        "\\end{pmatrix}.$"
      ]
    },
    {
      "cell_type": "markdown",
      "metadata": {
        "id": "8Ou8M6Eyvur6"
      },
      "source": [
        "$A+B=\\begin{pmatrix}1+4 & -2+(-1)\\\\3+0 & 0+5\\end{pmatrix}.$\n",
        "\n",
        "$ A+B =\\begin{pmatrix}5 & -3\\\\3 & 5\\end{pmatrix}.$"
      ]
    },
    {
      "cell_type": "markdown",
      "metadata": {
        "id": "oN-sBFo1tz5B"
      },
      "source": [
        "3. Из закономерностей сложения и умножения матриц на число можно сделать вывод, что матрицы одного размера образуют линейное пространство. Вычислить линейную комбинацию $3A-2B+4C$ для матриц $A=\\begin{pmatrix}\n",
        "1 & 7\\\\ \n",
        "3 & -6\n",
        "\\end{pmatrix}$, $B=\\begin{pmatrix}\n",
        "0 & 5\\\\ \n",
        "2 & -1\n",
        "\\end{pmatrix}$, $C=\\begin{pmatrix}\n",
        "2 & -4\\\\ \n",
        "1 & 1\n",
        "\\end{pmatrix}.$"
      ]
    },
    {
      "cell_type": "markdown",
      "metadata": {
        "id": "z0bn2T1axcTB"
      },
      "source": [
        "$3A=\\begin{pmatrix}\n",
        "4 & 21\\\\ \n",
        "9 & -18\n",
        "\\end{pmatrix}$\n",
        "\n",
        "$2B=\\begin{pmatrix}\n",
        "0 & 10\\\\ \n",
        "4 & -2\n",
        "\\end{pmatrix}$\n",
        "\n",
        "$4C=\\begin{pmatrix}\n",
        "8 & -16\\\\ \n",
        "4 & 4\n",
        "\\end{pmatrix}$\n",
        "\n",
        "$3A-2B+4C=\\begin{pmatrix}\n",
        "4-0+8 & 21-10+(-16)\\\\ \n",
        "9-4+4 & -18-(-2)+4\n",
        "\\end{pmatrix}$ =$\\begin{pmatrix}\n",
        "12 & -5\\\\ \n",
        "9 & -12\n",
        "\\end{pmatrix}$"
      ]
    },
    {
      "cell_type": "markdown",
      "metadata": {
        "id": "T5DB7dmFt5xh"
      },
      "source": [
        "4. Дана матрица $A=\\begin{pmatrix}\n",
        "4 & 1\\\\ \n",
        "5 & -2\\\\ \n",
        "2 & 3\n",
        "\\end{pmatrix}$.\n",
        "Вычислить $AA^{T}$ и $A^{T}A$."
      ]
    },
    {
      "cell_type": "markdown",
      "metadata": {
        "id": "Mx3Bx2Ml0sl-"
      },
      "source": [
        "$A^{T}=\\begin{pmatrix}\n",
        "4 & 5 & 2\\\\ \n",
        "1 & -2 & 3\n",
        "\\end{pmatrix}$\n",
        "\n",
        "$AA^{T}=\\begin{pmatrix}\n",
        "17& 18& 11\\\\ \n",
        "18& 29& 4\\\\\n",
        "11& 4& 13\n",
        "\\end{pmatrix}$\n",
        "\n",
        "$A^{T}A=\\begin{pmatrix}\n",
        "45& 0\\\\ \n",
        "0& 14\n",
        "\\end{pmatrix}$"
      ]
    },
    {
      "cell_type": "markdown",
      "metadata": {
        "id": "MWXwwxOKuQnM"
      },
      "source": [
        "5*. Написать на Python функцию для перемножения двух произвольных матриц, не используя NumPy."
      ]
    },
    {
      "cell_type": "code",
      "metadata": {
        "id": "uZvDW9wg9PzB"
      },
      "source": [
        "def matrixx(massiv1, massiv2, flag=0):\n",
        "    mi = massiv1.shape[1]\n",
        "    mk = massiv2.shape[1]\n",
        "    result = [[0 for k in range(mk)] for l in range(mk)]\n",
        " \n",
        "    if massiv1.shape[1] == massiv2.shape[0]:\n",
        " \n",
        "        for j in range(mk):\n",
        "            for k in range(mk):\n",
        "                znac = 0\n",
        " \n",
        "                for i in range(mi):\n",
        "                    znac += massiv1[k][i] * massiv2[i][j]\n",
        "                result[k][j] = znac\n",
        "    else:\n",
        "        print(\"razmernost ne correctna\")\n",
        " \n",
        "    return result"
      ],
      "execution_count": 5,
      "outputs": []
    },
    {
      "cell_type": "markdown",
      "metadata": {
        "id": "5lvzMF7Iuc-4"
      },
      "source": [
        "__1.__ Вычислить определитель:\n",
        "\n",
        "   a)\n",
        "\n",
        "$$\\begin{vmatrix}\n",
        "sinx & -cosx\\\\ \n",
        "cosx & sinx\n",
        "\\end{vmatrix};$$\n",
        "\n",
        "   б)\n",
        "    \n",
        "$$\\begin{vmatrix}\n",
        "4 & 2 & 3\\\\ \n",
        "0 & 5 & 1\\\\ \n",
        "0 & 0 & 9\n",
        "\\end{vmatrix};$$\n",
        "    \n",
        "   в)\n",
        "\n",
        "$$\\begin{vmatrix}\n",
        "1 & 2 & 3\\\\ \n",
        "4 & 5 & 6\\\\ \n",
        "7 & 8 & 9\n",
        "\\end{vmatrix}.$$"
      ]
    },
    {
      "cell_type": "markdown",
      "metadata": {
        "id": "8W4zH3qmHhS2"
      },
      "source": [
        "a) (sin x * (-cos x)) - (cos x * sin x) = -2 sinXcosX\n",
        "\n",
        "b) треугольная матрица => определитель равен произведению диагональных элем. => 4* 5* 9 = 180\n",
        "\n",
        "c) 1·5·9 + 2·6·7 + 3·4·8 - 3·5·7 - 1·6·8 - 2·4·9 = 45 + 84 + 96 - 105 - 48 - 72 = 0\n"
      ]
    },
    {
      "cell_type": "markdown",
      "metadata": {
        "id": "aOrUhSeOugdH"
      },
      "source": [
        "__2.__ Определитель матрицы $A$ равен $4$. Найти:\n",
        "\n",
        "   а) $det(A^{2})$;\n",
        "    \n",
        "   б) $det(A^{T})$;\n",
        "    \n",
        "   в) $det(2A)$."
      ]
    },
    {
      "cell_type": "markdown",
      "metadata": {
        "id": "Gs9DNLnLND9k"
      },
      "source": [
        "a) $det(A^{2})$ = $(detA)^{2}$ = 16\n",
        "\n",
        "b) $det(A^{T})$ = $det A$ = 4\n",
        "\n",
        "\n",
        "c)$det(2A)$ = $2detA$ = 8"
      ]
    },
    {
      "cell_type": "markdown",
      "metadata": {
        "id": "U0Yqpju8ukEI"
      },
      "source": [
        "__3.__  Доказать, что матрица\n",
        "\n",
        "$$\\begin{pmatrix}\n",
        "-2 & 7 & -3\\\\ \n",
        "4 & -14 & 6\\\\ \n",
        "-3 & 7 & 13\n",
        "\\end{pmatrix}$$\n",
        "   \n",
        "вырожденная."
      ]
    },
    {
      "cell_type": "markdown",
      "metadata": {
        "id": "IxAw1hzSVA0Q"
      },
      "source": [
        "❌"
      ]
    },
    {
      "cell_type": "markdown",
      "metadata": {
        "id": "LrUkG4X9unQ5"
      },
      "source": [
        "__4.__ Найти ранг матрицы:\n",
        "\n",
        "   а) $\\begin{pmatrix}\n",
        "1 & 2 & 3\\\\ \n",
        "1 & 1 & 1\\\\ \n",
        "2 & 3 & 4\n",
        "\\end{pmatrix};$\n",
        "\n",
        "   б) $\\begin{pmatrix}\n",
        "0 & 0 & 2 & 1\\\\ \n",
        "0 & 0 & 2 & 2\\\\ \n",
        "0 & 0 & 4 & 3\\\\ \n",
        "2 & 3 & 5 & 6\n",
        "\\end{pmatrix}.$"
      ]
    },
    {
      "cell_type": "markdown",
      "metadata": {
        "id": "XfbBokv8SMi3"
      },
      "source": [
        "a)от 2 строки отнимаем 1 строку, от 3 строки отнимаем 1 строку, умноженную на 2 => 2строку делим на -1=> к 3 строке добавляем 2 строку, умноженную на 1\n",
        "\n",
        "ответ = 2\n",
        "\n",
        "b)меняем 1 и 4 строки местами => 1строку делим на 2,2строку делим на 2 => от 3 строки отнимаем 2 строку, умноженную на 4,4 строки отнимаем 2 строку, умноженную на 2, 3строку делим на -1, к 4 строке добавляем 3 строку\n",
        "\n",
        "ответ = 3"
      ]
    }
  ]
}
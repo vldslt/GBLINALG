{
  "nbformat": 4,
  "nbformat_minor": 0,
  "metadata": {
    "colab": {
      "name": "linalg1.ipynb",
      "provenance": [],
      "authorship_tag": "ABX9TyNPSnDdjxS3UOTehjs/yIT9",
      "include_colab_link": true
    },
    "kernelspec": {
      "name": "python3",
      "display_name": "Python 3"
    },
    "language_info": {
      "name": "python"
    }
  },
  "cells": [
    {
      "cell_type": "markdown",
      "metadata": {
        "id": "view-in-github",
        "colab_type": "text"
      },
      "source": [
        "<a href=\"https://colab.research.google.com/github/vldslt/GBLINALG/blob/main/linalg1.ipynb\" target=\"_parent\"><img src=\"https://colab.research.google.com/assets/colab-badge.svg\" alt=\"Open In Colab\"/></a>"
      ]
    },
    {
      "cell_type": "code",
      "metadata": {
        "id": "aJyh5MTDv_1u"
      },
      "source": [
        "import numpy as np\n",
        "from numpy import linalg as la"
      ],
      "execution_count": 18,
      "outputs": []
    },
    {
      "cell_type": "markdown",
      "metadata": {
        "id": "dcFEZtswtG2T"
      },
      "source": [
        "1. Исследовать на линейную зависимость:\n",
        "\n",
        "  f1(x)=e^x\n",
        "\n",
        "  f2(x)=1\n",
        "  \n",
        "  f3(x)=x+1\n",
        "  \n",
        "  f4(x)=x−e^x. "
      ]
    },
    {
      "cell_type": "markdown",
      "metadata": {
        "id": "HywoU7tZJAWq"
      },
      "source": [
        "для того, чтобы некоторое множество элементов линейного пространства было линейно зависимым, необходимо и достаточно, чтобы один из этих элементов являлся линейной комбинацией остальных.\n",
        "\n",
        "f3(x) = f4(x) + f1(x) + f2(x)\n",
        "\n",
        "x+1 = x - e^x + e^x +1 => x+1=x+1\n"
      ]
    },
    {
      "cell_type": "markdown",
      "metadata": {
        "id": "NJaWom5CuPlV"
      },
      "source": [
        "2. Исследовать на линейную зависимость:\n",
        "\n",
        "  f1(x)=2\n",
        "\n",
        "  f2(x)=x\n",
        "\n",
        "  f3(x)=x^2\n",
        "\n",
        "  f4(x)=(x+1)^2"
      ]
    },
    {
      "cell_type": "markdown",
      "metadata": {
        "id": "rlLiqQJILt1w"
      },
      "source": [
        "тк невозможно выразить элемент через линейную комбинацию -> система линейно независима"
      ]
    },
    {
      "cell_type": "markdown",
      "metadata": {
        "id": "lNR8tludKHP_"
      },
      "source": [
        "x^2+x+2 = x^2+2x+1"
      ]
    },
    {
      "cell_type": "markdown",
      "metadata": {
        "id": "psJ0CzJbuTum"
      },
      "source": [
        "3. Найти координаты вектора x=(2,3,5)∈R3 в базисе\n",
        "\n",
        "  b1=(0,0,10)\n",
        "\n",
        "  b2=(2,0,0)\n",
        "\n",
        "  b3=(0,1,0)."
      ]
    },
    {
      "cell_type": "markdown",
      "metadata": {
        "id": "mBQXMjSyNH2v"
      },
      "source": [
        "x = 0.5, 1, 3"
      ]
    },
    {
      "cell_type": "markdown",
      "metadata": {
        "id": "0EAwmfLZuWst"
      },
      "source": [
        "4. Найти координаты вектора 3x^2−2x+2∈R3[x]:\n",
        "  \n",
        "  а) в базисе 1, x, x^2;\n",
        "  \n",
        "  б) в базисе x^2, x−1, 1."
      ]
    },
    {
      "cell_type": "markdown",
      "metadata": {
        "id": "RuX8ffc0Noey"
      },
      "source": [
        "a) 2, -2, 3\n",
        "\n",
        "b) 3, -2, 0"
      ]
    },
    {
      "cell_type": "markdown",
      "metadata": {
        "id": "YnXAAaR8NWNK"
      },
      "source": [
        ""
      ]
    },
    {
      "cell_type": "markdown",
      "metadata": {
        "id": "ehU9yTuCuZ7A"
      },
      "source": [
        "5. Установить, является ли линейным подпространством:\n",
        "  \n",
        "  а) совокупность всех векторов трехмерного пространства, у которых по крайней мере одна из первых двух координат равна нулю;\n",
        "\n",
        "  б) все векторы, являющиеся линейными комбинациями данных векторов  {u1,u2,…,un} .\n",
        "  "
      ]
    },
    {
      "cell_type": "markdown",
      "metadata": {
        "id": "f9QfM3v5UNRp"
      },
      "source": [
        "а) - \n",
        "\n",
        "б) Множество всевозможных линейных комбинаций векторов называется линейным подпространством,\n",
        "натянутым на систему векторов,или линейной оболочкой"
      ]
    },
    {
      "cell_type": "markdown",
      "metadata": {
        "id": "bnI6c0llugub"
      },
      "source": [
        "1. Найти скалярное произведение векторов  x,y∈R :\n",
        "\n",
        "а)  x=(0,−3,6), y=(−4,7,9); \n",
        "\n",
        "б)  x=(7,−4,0,1), y=(−3,1,11,2)."
      ]
    },
    {
      "cell_type": "code",
      "metadata": {
        "colab": {
          "base_uri": "https://localhost:8080/"
        },
        "id": "kocwuwENTK7j",
        "outputId": "f8174035-fd88-4979-ebb2-8941edd05b37"
      },
      "source": [
        "x = np.array([0, -3, 6])\n",
        "y = np.array([-4, 7, 9])\n",
        "np.dot(x, y, out=None)"
      ],
      "execution_count": 16,
      "outputs": [
        {
          "output_type": "execute_result",
          "data": {
            "text/plain": [
              "33"
            ]
          },
          "metadata": {},
          "execution_count": 16
        }
      ]
    },
    {
      "cell_type": "code",
      "metadata": {
        "colab": {
          "base_uri": "https://localhost:8080/"
        },
        "id": "8KxskBjPUjt2",
        "outputId": "5d06bdd1-f0bb-4c9e-ae0d-62aae1d94d89"
      },
      "source": [
        "x = np.array([7,-4,0,1])\n",
        "y = np.array([-3,1,11,2])\n",
        "np.dot(x, y, out=None)"
      ],
      "execution_count": 17,
      "outputs": [
        {
          "output_type": "execute_result",
          "data": {
            "text/plain": [
              "-23"
            ]
          },
          "metadata": {},
          "execution_count": 17
        }
      ]
    },
    {
      "cell_type": "markdown",
      "metadata": {
        "id": "qa6o6UD0uj4Z"
      },
      "source": [
        "2. Найти нормы векторов  (4,2,4)  и  (12,3,4)  и угол между ними."
      ]
    },
    {
      "cell_type": "code",
      "metadata": {
        "colab": {
          "base_uri": "https://localhost:8080/"
        },
        "id": "8KyksROIVwdN",
        "outputId": "5f81c4e2-f46c-458f-ab04-3cfbee2a6a6f"
      },
      "source": [
        "a = np.array([4,2,4])\n",
        "la.norm(a)"
      ],
      "execution_count": 22,
      "outputs": [
        {
          "output_type": "execute_result",
          "data": {
            "text/plain": [
              "6.0"
            ]
          },
          "metadata": {},
          "execution_count": 22
        }
      ]
    },
    {
      "cell_type": "code",
      "metadata": {
        "colab": {
          "base_uri": "https://localhost:8080/"
        },
        "id": "FMA7GrUqSrVO",
        "outputId": "f5232812-ba59-4b23-a4ef-0147058b15c5"
      },
      "source": [
        "a_nor = (4**2 + 2**2 + 4**2)**0.5\n",
        "a_nor"
      ],
      "execution_count": 23,
      "outputs": [
        {
          "output_type": "execute_result",
          "data": {
            "text/plain": [
              "6.0"
            ]
          },
          "metadata": {},
          "execution_count": 23
        }
      ]
    },
    {
      "cell_type": "code",
      "metadata": {
        "colab": {
          "base_uri": "https://localhost:8080/"
        },
        "id": "YRhu7uqCV8bS",
        "outputId": "f27febfe-b5d5-454e-a841-639e4fa623c8"
      },
      "source": [
        "b = np.array([12,3,4])\n",
        "la.norm(b)"
      ],
      "execution_count": 24,
      "outputs": [
        {
          "output_type": "execute_result",
          "data": {
            "text/plain": [
              "13.0"
            ]
          },
          "metadata": {},
          "execution_count": 24
        }
      ]
    },
    {
      "cell_type": "code",
      "metadata": {
        "colab": {
          "base_uri": "https://localhost:8080/"
        },
        "id": "A1_E-_F1S43S",
        "outputId": "991477ba-2bd1-4729-95d6-9c31c7daaf81"
      },
      "source": [
        "b_nor = (12**2 + 3**2 + 4**2)**0.5\n",
        "b_nor"
      ],
      "execution_count": 25,
      "outputs": [
        {
          "output_type": "execute_result",
          "data": {
            "text/plain": [
              "13.0"
            ]
          },
          "metadata": {},
          "execution_count": 25
        }
      ]
    },
    {
      "cell_type": "code",
      "metadata": {
        "colab": {
          "base_uri": "https://localhost:8080/"
        },
        "id": "0K0QWgaXWoxj",
        "outputId": "1ac610ee-f2d6-4f87-d02a-43c74a95ae98"
      },
      "source": [
        "np.dot(a, b)"
      ],
      "execution_count": 28,
      "outputs": [
        {
          "output_type": "execute_result",
          "data": {
            "text/plain": [
              "70"
            ]
          },
          "metadata": {},
          "execution_count": 28
        }
      ]
    },
    {
      "cell_type": "code",
      "metadata": {
        "colab": {
          "base_uri": "https://localhost:8080/"
        },
        "id": "e-A4s8QmXvjN",
        "outputId": "8a50734d-3481-4dc1-b6ee-a5dc7e4781e5"
      },
      "source": [
        "cos = 70 / (6 * 13)\n",
        "cos"
      ],
      "execution_count": 30,
      "outputs": [
        {
          "output_type": "execute_result",
          "data": {
            "text/plain": [
              "0.8974358974358975"
            ]
          },
          "metadata": {},
          "execution_count": 30
        }
      ]
    },
    {
      "cell_type": "code",
      "metadata": {
        "colab": {
          "base_uri": "https://localhost:8080/"
        },
        "id": "ntZQUByYX6V-",
        "outputId": "b3367fa4-0332-44f7-fff5-25317735b447"
      },
      "source": [
        "np.arccos(cos)"
      ],
      "execution_count": 31,
      "outputs": [
        {
          "output_type": "execute_result",
          "data": {
            "text/plain": [
              "0.45687400353266105"
            ]
          },
          "metadata": {},
          "execution_count": 31
        }
      ]
    },
    {
      "cell_type": "markdown",
      "metadata": {
        "id": "Iptao9HWumae"
      },
      "source": [
        "3. Будет ли линейное пространство евклидовым, если за скалярное произведение принять:\n",
        "\n",
        "а) произведение длин векторов;\n",
        "\n",
        "б) утроенное обычное скалярное произведение векторов?"
      ]
    },
    {
      "cell_type": "markdown",
      "metadata": {
        "id": "uGzM6qP4aMx3"
      },
      "source": [
        "Евклидово пространство — это векторное пространство с заданным на нем скалярным\n",
        "произведением. Любое подпространство евклидова пространства — тоже евклидово пространство (с тем же скалярным произведением, ограниченным на это подпространство). -> а = да, б = нет"
      ]
    },
    {
      "cell_type": "markdown",
      "metadata": {
        "id": "SlHC-UeluoDV"
      },
      "source": [
        "4. Какие из нижеперечисленных векторов образуют ортонормированный базис в линейном пространстве  R3 :\n",
        "\n",
        "а)  (1,0,0),(0,0,1); \n",
        "\n",
        "б)  (1/2–√,−1/2–√,0),(1/2–√,1/2–√,0),(0,0,1); \n",
        "\n",
        "в)  (1/2,−1/2,0),(0,1/2,1/2),(0,0,1); \n",
        "\n",
        "г)  (1,0,0),(0,1,0),(0,0,1)?"
      ]
    },
    {
      "cell_type": "code",
      "metadata": {
        "colab": {
          "base_uri": "https://localhost:8080/"
        },
        "id": "45uktD6QcrkR",
        "outputId": "4ee1a591-9841-46d9-ea66-fa5ff4937152"
      },
      "source": [
        "a = np.array([0,0,1])\n",
        "a2 = np.array([1,0,0])\n",
        "np.dot(a,a2)"
      ],
      "execution_count": 40,
      "outputs": [
        {
          "output_type": "execute_result",
          "data": {
            "text/plain": [
              "0"
            ]
          },
          "metadata": {},
          "execution_count": 40
        }
      ]
    },
    {
      "cell_type": "code",
      "metadata": {
        "colab": {
          "base_uri": "https://localhost:8080/"
        },
        "id": "JmhYYirNdkbX",
        "outputId": "4f32c4a7-8283-4501-91bb-e5feaba4c961"
      },
      "source": [
        "print(np.dot(a,a))\n",
        "print(np.dot(a2,a2))"
      ],
      "execution_count": 41,
      "outputs": [
        {
          "output_type": "stream",
          "name": "stdout",
          "text": [
            "1\n",
            "1\n"
          ]
        }
      ]
    },
    {
      "cell_type": "code",
      "metadata": {
        "colab": {
          "base_uri": "https://localhost:8080/"
        },
        "id": "atLzER7geDNV",
        "outputId": "eeac900f-33c8-43a3-c874-62f5a3515cbf"
      },
      "source": [
        "b1 = np.array([1/(2**0.5), -(1/(2**0.5)), 0])\n",
        "b2 = np.array([1/(2**0.5), 1/(2**0.5), 0])\n",
        "b3 = np.array([0, 0, 1])\n",
        "np.dot(b2,b2)"
      ],
      "execution_count": 47,
      "outputs": [
        {
          "output_type": "execute_result",
          "data": {
            "text/plain": [
              "0.9999999999999998"
            ]
          },
          "metadata": {},
          "execution_count": 47
        }
      ]
    },
    {
      "cell_type": "code",
      "metadata": {
        "colab": {
          "base_uri": "https://localhost:8080/"
        },
        "id": "yyS1x03FfQFq",
        "outputId": "5972baf6-7be6-4d3f-ef2a-175870ff7670"
      },
      "source": [
        "c1 = np.array([0.5 , -0.5, 0])\n",
        "c2 = np.array([0, 0.5, 0.5])\n",
        "c3 = np.array([0,0,1])\n",
        "np.dot(c1,c1)"
      ],
      "execution_count": 51,
      "outputs": [
        {
          "output_type": "execute_result",
          "data": {
            "text/plain": [
              "0.5"
            ]
          },
          "metadata": {},
          "execution_count": 51
        }
      ]
    },
    {
      "cell_type": "code",
      "metadata": {
        "colab": {
          "base_uri": "https://localhost:8080/"
        },
        "id": "uOKVbq7of7YP",
        "outputId": "648b62d9-fd19-47e0-d0c8-9002898fd276"
      },
      "source": [
        "d1 = np.array([1,0,0])\n",
        "d2 = np.array([0,1,0])\n",
        "d3 = np.array([0,0,1])\n",
        "\n",
        "np.dot(d1,d1)"
      ],
      "execution_count": 52,
      "outputs": [
        {
          "output_type": "execute_result",
          "data": {
            "text/plain": [
              "1"
            ]
          },
          "metadata": {},
          "execution_count": 52
        }
      ]
    },
    {
      "cell_type": "code",
      "metadata": {
        "colab": {
          "base_uri": "https://localhost:8080/"
        },
        "id": "FebxzCY1gbIE",
        "outputId": "5c3abd23-a6e3-45c2-acf9-5fe4fe3ff111"
      },
      "source": [
        "np.dot(d2,d3)"
      ],
      "execution_count": 53,
      "outputs": [
        {
          "output_type": "execute_result",
          "data": {
            "text/plain": [
              "0"
            ]
          },
          "metadata": {},
          "execution_count": 53
        }
      ]
    },
    {
      "cell_type": "code",
      "metadata": {
        "id": "PLlhBnAcge3S"
      },
      "source": [
        "образуют ортонормированный базис a и г"
      ],
      "execution_count": null,
      "outputs": []
    }
  ]
}
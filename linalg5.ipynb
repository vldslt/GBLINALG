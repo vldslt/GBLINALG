{
  "nbformat": 4,
  "nbformat_minor": 0,
  "metadata": {
    "colab": {
      "name": "linalg5.ipynb",
      "provenance": [],
      "authorship_tag": "ABX9TyNXeRVlGfRnW11L1xS4CZrG",
      "include_colab_link": true
    },
    "kernelspec": {
      "name": "python3",
      "display_name": "Python 3"
    },
    "language_info": {
      "name": "python"
    }
  },
  "cells": [
    {
      "cell_type": "markdown",
      "metadata": {
        "id": "view-in-github",
        "colab_type": "text"
      },
      "source": [
        "<a href=\"https://colab.research.google.com/github/vldslt/GBLINALG/blob/main/linalg5.ipynb\" target=\"_parent\"><img src=\"https://colab.research.google.com/assets/colab-badge.svg\" alt=\"Open In Colab\"/></a>"
      ]
    },
    {
      "cell_type": "code",
      "metadata": {
        "id": "C0F8vBIgclR2"
      },
      "source": [
        "import numpy as np\n",
        "from sklearn.decomposition import PCA"
      ],
      "execution_count": 2,
      "outputs": []
    },
    {
      "cell_type": "markdown",
      "metadata": {
        "id": "g12cJ1V4Nzt_"
      },
      "source": [
        "1. Найти с помощью NumPy SVD для матрицы\n",
        "\n",
        "$$\\begin{pmatrix}\n",
        "1 & 2 & 0\\\\ \n",
        "0 & 0 & 5\\\\ \n",
        "3 & -4 & 2\\\\ \n",
        "1 & 6 & 5\\\\ \n",
        "0 & 1 & 0\n",
        "\\end{pmatrix}.$$"
      ]
    },
    {
      "cell_type": "code",
      "metadata": {
        "id": "j-VkdasZN7D3"
      },
      "source": [
        "m = np.array([[1, 2, 0],\n",
        "     [0, 0, 5],\n",
        "     [3, -4, 2],\n",
        "     [1, 6, 5],\n",
        "     [0, 1, 0]])"
      ],
      "execution_count": 47,
      "outputs": []
    },
    {
      "cell_type": "code",
      "metadata": {
        "colab": {
          "base_uri": "https://localhost:8080/"
        },
        "id": "b2HGkBJRVU4E",
        "outputId": "f427a594-5331-474b-982c-07e83b8d38ef"
      },
      "source": [
        "U, S, W = np.linalg.svd(m)\n",
        "print(f'U = \\n{U}')\n",
        "print(f'S = \\n{S}')\n",
        "print(f'V = \\n{W.T}')"
      ],
      "execution_count": 48,
      "outputs": [
        {
          "output_type": "stream",
          "name": "stdout",
          "text": [
            "U = \n",
            "[[ 0.17  0.16 -0.53 -0.8  -0.16]\n",
            " [ 0.39 -0.53  0.61 -0.43  0.03]\n",
            " [-0.14 -0.82 -0.52  0.14  0.07]\n",
            " [ 0.89  0.06 -0.25  0.38 -0.06]\n",
            " [ 0.08  0.11 -0.08 -0.11  0.98]]\n",
            "S = \n",
            "[8.82 6.14 2.53]\n",
            "V = \n",
            "[[ 0.07 -0.37 -0.93]\n",
            " [ 0.72  0.67 -0.21]\n",
            " [ 0.69 -0.65  0.31]]\n"
          ]
        }
      ]
    },
    {
      "cell_type": "code",
      "metadata": {
        "colab": {
          "base_uri": "https://localhost:8080/"
        },
        "id": "0fX-F4mRWzk1",
        "outputId": "a2b164b6-df9f-4e8b-b616-3c4ba12eb641"
      },
      "source": [
        "np.dot(U, U.T)"
      ],
      "execution_count": 49,
      "outputs": [
        {
          "output_type": "execute_result",
          "data": {
            "text/plain": [
              "array([[ 1.,  0., -0.,  0., -0.],\n",
              "       [ 0.,  1.,  0., -0.,  0.],\n",
              "       [-0.,  0.,  1.,  0.,  0.],\n",
              "       [ 0., -0.,  0.,  1., -0.],\n",
              "       [-0.,  0.,  0., -0.,  1.]])"
            ]
          },
          "metadata": {},
          "execution_count": 49
        }
      ]
    },
    {
      "cell_type": "code",
      "metadata": {
        "colab": {
          "base_uri": "https://localhost:8080/"
        },
        "id": "5UZdVwBMW5Z8",
        "outputId": "9d3a4afd-6200-41d5-d30e-1b27955e3215"
      },
      "source": [
        "np.dot(V, V.T)"
      ],
      "execution_count": 50,
      "outputs": [
        {
          "output_type": "execute_result",
          "data": {
            "text/plain": [
              "array([[ 1.,  0., -0.],\n",
              "       [ 0.,  1., -0.],\n",
              "       [-0., -0.,  1.]])"
            ]
          },
          "metadata": {},
          "execution_count": 50
        }
      ]
    },
    {
      "cell_type": "markdown",
      "metadata": {
        "id": "Eyhdi_CSN1xM"
      },
      "source": [
        "2. Для матрицы из предыдущего задания найти:\n",
        "\n",
        "    а) евклидову норму;\n",
        "    \n",
        "    б) норму Фробениуса."
      ]
    },
    {
      "cell_type": "code",
      "metadata": {
        "colab": {
          "base_uri": "https://localhost:8080/"
        },
        "id": "rIyee_cxW4Vr",
        "outputId": "f6ae2818-5270-45e5-d1d0-d6a2b9ed1555"
      },
      "source": [
        "np.linalg.norm(m, ord=2)"
      ],
      "execution_count": 51,
      "outputs": [
        {
          "output_type": "execute_result",
          "data": {
            "text/plain": [
              "8.824868854820444"
            ]
          },
          "metadata": {},
          "execution_count": 51
        }
      ]
    },
    {
      "cell_type": "code",
      "metadata": {
        "colab": {
          "base_uri": "https://localhost:8080/"
        },
        "id": "c_FJmfSYjaKN",
        "outputId": "cacd8701-5ede-4fc9-d28d-4d3594b5d940"
      },
      "source": [
        "D = np.zeros_like(m, dtype=float)\n",
        "D[np.diag_indices(min(m.shape))] = S\n",
        "print(D[0,0])"
      ],
      "execution_count": 56,
      "outputs": [
        {
          "output_type": "stream",
          "name": "stdout",
          "text": [
            "8.824868854820442\n"
          ]
        }
      ]
    },
    {
      "cell_type": "code",
      "metadata": {
        "colab": {
          "base_uri": "https://localhost:8080/"
        },
        "id": "Ii0ax1G_V0h9",
        "outputId": "9ebe438f-d6de-4ca1-dc98-9f2506394887"
      },
      "source": [
        "np.linalg.norm(m)"
      ],
      "execution_count": 28,
      "outputs": [
        {
          "output_type": "execute_result",
          "data": {
            "text/plain": [
              "11.045361017187261"
            ]
          },
          "metadata": {},
          "execution_count": 28
        }
      ]
    }
  ]
}